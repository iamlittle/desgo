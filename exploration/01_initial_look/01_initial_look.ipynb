{
 "cells": [
  {
   "cell_type": "markdown",
   "metadata": {},
   "source": [
    "## Load the matplotlib magic and the normal pandas stack"
   ]
  },
  {
   "cell_type": "code",
   "execution_count": 10,
   "metadata": {
    "collapsed": true
   },
   "outputs": [],
   "source": [
    "%matplotlib inline\n",
    "import pandas as pd\n",
    "import numpy as np\n",
    "from matplotlib import pyplot\n",
    "import os\n",
    "import re\n",
    "\n",
    "## here we'll set the matplotlib figure size to take up more real estate\n",
    "pyplot.rcParams['figure.figsize'] = [12, 5]"
   ]
  },
  {
   "cell_type": "markdown",
   "metadata": {},
   "source": [
    "## Read the data into a set of DataFrames"
   ]
  },
  {
   "cell_type": "code",
   "execution_count": 11,
   "metadata": {},
   "outputs": [],
   "source": [
    "outputFiles = os.listdir('./output')\n",
    "output_series = (list(), list())\n",
    "output_metrics = (list(), list())\n",
    "inputs = (list(), list())\n",
    "for outputFile in outputFiles:\n",
    "    simName = outputFile[:outputFile.index('.output')]\n",
    "    with open(\"./output/\" + outputFile, 'r') as f:\n",
    "        for cnt, line in enumerate(f):\n",
    "            split = line.split()\n",
    "            if len(split) > 1:\n",
    "                if split[0].startswith('OUT'):\n",
    "                    measure = split[0][:split[0].rfind('_')]\n",
    "                    iteration = int(split[0][split[0].rfind('_')+1:])\n",
    "                    if len(split) > 2:\n",
    "                        output_series[0].append((simName, measure, iteration))\n",
    "                        output_series[1].append(pd.Series(split[1:]).astype(float))\n",
    "                    else:\n",
    "                        output_metrics[0].append((simName, measure, iteration))\n",
    "                        output_metrics[1].append(float(split[1]))\n",
    "                        \n",
    "                if split[0].startswith('INP'):\n",
    "                    inputs[0].append((simName, split[0]))\n",
    "                    inputs[1].append(float(split[1]))\n",
    "                                   \n",
    "series_index = pd.MultiIndex.from_tuples(output_series[0], names=['simulation', 'measure', 'iteration'])\n",
    "series = pd.DataFrame(pd.Series(output_series[1], index=series_index), columns=['values'])\n",
    "\n",
    "metrics_index = pd.MultiIndex.from_tuples(output_metrics[0], names=['simulation', 'measure', 'iteration'])\n",
    "metrics = pd.DataFrame(pd.Series(output_metrics[1], index=metrics_index), columns=['values'])\n",
    "\n",
    "inputs_index = pd.MultiIndex.from_tuples(inputs[0], names=['simulation', 'measure'])\n",
    "inputs = pd.DataFrame(pd.Series(inputs[1], index=inputs_index), columns=['values'])\n"
   ]
  },
  {
   "cell_type": "markdown",
   "metadata": {},
   "source": [
    "## Great, lets take a look at the data! We'll look at the 1000 customer / 10 cashier scenario and create a histogram of the customer shop times."
   ]
  },
  {
   "cell_type": "code",
   "execution_count": 12,
   "metadata": {},
   "outputs": [
    {
     "data": {
      "text/plain": [
       "count    1000.000000\n",
       "mean       14.686797\n",
       "std         7.608408\n",
       "min         2.531300\n",
       "25%         9.348450\n",
       "50%        13.143150\n",
       "75%        18.138250\n",
       "max        64.067000\n",
       "dtype: float64"
      ]
     },
     "execution_count": 12,
     "metadata": {},
     "output_type": "execute_result"
    },
    {
     "data": {
      "image/png": "[encoded data removed]",
      "text/plain": [
       "<matplotlib.figure.Figure at 0x10642bd50>"
      ]
     },
     "metadata": {},
     "output_type": "display_data"
    }
   ],
   "source": [
    "shopTimes = series['values']['cashier_1000_10']['OUT_CUSTOMER_SHOP_TIMES'][0]\n",
    "_, division = np.histogram(shopTimes, range(int(shopTimes.min()),int(shopTimes.max()),1))\n",
    "shopTimes.hist(bins=division)\n",
    "shopTimes.describe()"
   ]
  },
  {
   "cell_type": "markdown",
   "metadata": {},
   "source": [
    "## We can see it is a lognormal distribution, with a mean of around 15 minutes and a standard deviation of ~8 minutes. That matches up with our input."
   ]
  },
  {
   "cell_type": "markdown",
   "metadata": {},
   "source": [
    "## Lets take a look at some entry times."
   ]
  },
  {
   "cell_type": "code",
   "execution_count": 13,
   "metadata": {},
   "outputs": [
    {
     "data": {
      "text/plain": [
       "count    1000.000000\n",
       "mean      118.420553\n",
       "std        58.269421\n",
       "min        21.305200\n",
       "25%        77.544925\n",
       "50%       108.299050\n",
       "75%       147.179125\n",
       "max       600.071100\n",
       "dtype: float64"
      ]
     },
     "execution_count": 13,
     "metadata": {},
     "output_type": "execute_result"
    },
    {
     "data": {
      "image/png": "[encoded data removed]",
      "text/plain": [
       "<matplotlib.figure.Figure at 0x108898a90>"
      ]
     },
     "metadata": {},
     "output_type": "display_data"
    }
   ],
   "source": [
    "entryTimes = series['values']['cashier_1000_10']['OUT_CUSTOMER_ENTRY_TIMES'][0]\n",
    "count, division = np.histogram(entryTimes, range(int(entryTimes.min()),int(entryTimes.max()),10))\n",
    "entryTimes.hist(bins=division)\n",
    "entryTimes.describe()"
   ]
  },
  {
   "cell_type": "markdown",
   "metadata": {},
   "source": [
    "## Again, a lognormal distribution. A mean of 120 minutes with a standard deviation of ~ an hour. So far, so good. Lets take a look at the customer wait times"
   ]
  },
  {
   "cell_type": "code",
   "execution_count": 14,
   "metadata": {},
   "outputs": [
    {
     "data": {
      "text/html": [
       "<div>\n",
       "<style scoped>\n",
       "    .dataframe tbody tr th:only-of-type {\n",
       "        vertical-align: middle;\n",
       "    }\n",
       "\n",
       "    .dataframe tbody tr th {\n",
       "        vertical-align: top;\n",
       "    }\n",
       "\n",
       "    .dataframe thead th {\n",
       "        text-align: right;\n",
       "    }\n",
       "</style>\n",
       "<table border=\"1\" class=\"dataframe\">\n",
       "  <thead>\n",
       "    <tr style=\"text-align: right;\">\n",
       "      <th></th>\n",
       "      <th>count</th>\n",
       "      <th>mean</th>\n",
       "      <th>std</th>\n",
       "      <th>min</th>\n",
       "      <th>25%</th>\n",
       "      <th>50%</th>\n",
       "      <th>75%</th>\n",
       "      <th>max</th>\n",
       "    </tr>\n",
       "    <tr>\n",
       "      <th>iteration</th>\n",
       "      <th></th>\n",
       "      <th></th>\n",
       "      <th></th>\n",
       "      <th></th>\n",
       "      <th></th>\n",
       "      <th></th>\n",
       "      <th></th>\n",
       "      <th></th>\n",
       "    </tr>\n",
       "  </thead>\n",
       "  <tbody>\n",
       "    <tr>\n",
       "      <th>1</th>\n",
       "      <td>1000.0</td>\n",
       "      <td>0.050518</td>\n",
       "      <td>0.114125</td>\n",
       "      <td>0.0</td>\n",
       "      <td>0.000000</td>\n",
       "      <td>0.00000</td>\n",
       "      <td>0.024725</td>\n",
       "      <td>0.7032</td>\n",
       "    </tr>\n",
       "    <tr>\n",
       "      <th>2</th>\n",
       "      <td>1000.0</td>\n",
       "      <td>26.932418</td>\n",
       "      <td>17.966520</td>\n",
       "      <td>0.0</td>\n",
       "      <td>9.313400</td>\n",
       "      <td>29.96250</td>\n",
       "      <td>45.126850</td>\n",
       "      <td>50.3651</td>\n",
       "    </tr>\n",
       "    <tr>\n",
       "      <th>4</th>\n",
       "      <td>1000.0</td>\n",
       "      <td>22.838178</td>\n",
       "      <td>15.550098</td>\n",
       "      <td>0.0</td>\n",
       "      <td>7.176850</td>\n",
       "      <td>25.45470</td>\n",
       "      <td>37.599700</td>\n",
       "      <td>44.2812</td>\n",
       "    </tr>\n",
       "    <tr>\n",
       "      <th>0</th>\n",
       "      <td>1000.0</td>\n",
       "      <td>42.927516</td>\n",
       "      <td>27.160781</td>\n",
       "      <td>0.0</td>\n",
       "      <td>16.889700</td>\n",
       "      <td>46.32100</td>\n",
       "      <td>69.843825</td>\n",
       "      <td>78.8327</td>\n",
       "    </tr>\n",
       "    <tr>\n",
       "      <th>6</th>\n",
       "      <td>1000.0</td>\n",
       "      <td>1.880609</td>\n",
       "      <td>2.199346</td>\n",
       "      <td>0.0</td>\n",
       "      <td>0.000000</td>\n",
       "      <td>0.54820</td>\n",
       "      <td>3.878850</td>\n",
       "      <td>6.3261</td>\n",
       "    </tr>\n",
       "    <tr>\n",
       "      <th>7</th>\n",
       "      <td>1000.0</td>\n",
       "      <td>0.205208</td>\n",
       "      <td>0.438877</td>\n",
       "      <td>0.0</td>\n",
       "      <td>0.000000</td>\n",
       "      <td>0.00000</td>\n",
       "      <td>0.172625</td>\n",
       "      <td>2.1121</td>\n",
       "    </tr>\n",
       "    <tr>\n",
       "      <th>5</th>\n",
       "      <td>1000.0</td>\n",
       "      <td>66.772821</td>\n",
       "      <td>39.709976</td>\n",
       "      <td>0.0</td>\n",
       "      <td>29.878375</td>\n",
       "      <td>72.97010</td>\n",
       "      <td>104.767225</td>\n",
       "      <td>118.2449</td>\n",
       "    </tr>\n",
       "    <tr>\n",
       "      <th>8</th>\n",
       "      <td>1000.0</td>\n",
       "      <td>23.953546</td>\n",
       "      <td>16.850973</td>\n",
       "      <td>0.0</td>\n",
       "      <td>6.236900</td>\n",
       "      <td>26.23995</td>\n",
       "      <td>40.684750</td>\n",
       "      <td>46.4514</td>\n",
       "    </tr>\n",
       "    <tr>\n",
       "      <th>9</th>\n",
       "      <td>1000.0</td>\n",
       "      <td>83.300528</td>\n",
       "      <td>49.204053</td>\n",
       "      <td>0.0</td>\n",
       "      <td>38.482775</td>\n",
       "      <td>88.94710</td>\n",
       "      <td>132.234075</td>\n",
       "      <td>145.3820</td>\n",
       "    </tr>\n",
       "    <tr>\n",
       "      <th>3</th>\n",
       "      <td>1000.0</td>\n",
       "      <td>0.174997</td>\n",
       "      <td>0.303907</td>\n",
       "      <td>0.0</td>\n",
       "      <td>0.000000</td>\n",
       "      <td>0.00000</td>\n",
       "      <td>0.232050</td>\n",
       "      <td>1.6418</td>\n",
       "    </tr>\n",
       "  </tbody>\n",
       "</table>\n",
       "</div>"
      ],
      "text/plain": [
       "            count       mean        std  min        25%       50%         75%  \\\n",
       "iteration                                                                       \n",
       "1          1000.0   0.050518   0.114125  0.0   0.000000   0.00000    0.024725   \n",
       "2          1000.0  26.932418  17.966520  0.0   9.313400  29.96250   45.126850   \n",
       "4          1000.0  22.838178  15.550098  0.0   7.176850  25.45470   37.599700   \n",
       "0          1000.0  42.927516  27.160781  0.0  16.889700  46.32100   69.843825   \n",
       "6          1000.0   1.880609   2.199346  0.0   0.000000   0.54820    3.878850   \n",
       "7          1000.0   0.205208   0.438877  0.0   0.000000   0.00000    0.172625   \n",
       "5          1000.0  66.772821  39.709976  0.0  29.878375  72.97010  104.767225   \n",
       "8          1000.0  23.953546  16.850973  0.0   6.236900  26.23995   40.684750   \n",
       "9          1000.0  83.300528  49.204053  0.0  38.482775  88.94710  132.234075   \n",
       "3          1000.0   0.174997   0.303907  0.0   0.000000   0.00000    0.232050   \n",
       "\n",
       "                max  \n",
       "iteration            \n",
       "1            0.7032  \n",
       "2           50.3651  \n",
       "4           44.2812  \n",
       "0           78.8327  \n",
       "6            6.3261  \n",
       "7            2.1121  \n",
       "5          118.2449  \n",
       "8           46.4514  \n",
       "9          145.3820  \n",
       "3            1.6418  "
      ]
     },
     "execution_count": 14,
     "metadata": {},
     "output_type": "execute_result"
    }
   ],
   "source": [
    "series['values']['cashier_1000_10']['OUT_CUSTOMER_WAIT_TIMES'].apply(lambda x: x.describe())"
   ]
  },
  {
   "cell_type": "markdown",
   "metadata": {},
   "source": [
    "## Wow, look at those wait times. There is only one iteration that has a mean wait time < 1 hour. \n",
    "---\n",
    "## Lets broaden our view. We'll count the iterations for each simulation that has a mean wait time of < 15 minutes."
   ]
  },
  {
   "cell_type": "code",
   "execution_count": 15,
   "metadata": {},
   "outputs": [
    {
     "data": {
      "text/html": [
       "<div>\n",
       "<style scoped>\n",
       "    .dataframe tbody tr th:only-of-type {\n",
       "        vertical-align: middle;\n",
       "    }\n",
       "\n",
       "    .dataframe tbody tr th {\n",
       "        vertical-align: top;\n",
       "    }\n",
       "\n",
       "    .dataframe thead th {\n",
       "        text-align: right;\n",
       "    }\n",
       "</style>\n",
       "<table border=\"1\" class=\"dataframe\">\n",
       "  <thead>\n",
       "    <tr style=\"text-align: right;\">\n",
       "      <th></th>\n",
       "      <th>values</th>\n",
       "    </tr>\n",
       "    <tr>\n",
       "      <th>simulation</th>\n",
       "      <th></th>\n",
       "    </tr>\n",
       "  </thead>\n",
       "  <tbody>\n",
       "    <tr>\n",
       "      <th>cashier_1000_10</th>\n",
       "      <td>4</td>\n",
       "    </tr>\n",
       "    <tr>\n",
       "      <th>cashier_1000_11</th>\n",
       "      <td>6</td>\n",
       "    </tr>\n",
       "    <tr>\n",
       "      <th>cashier_1000_12</th>\n",
       "      <td>3</td>\n",
       "    </tr>\n",
       "    <tr>\n",
       "      <th>cashier_1000_13</th>\n",
       "      <td>8</td>\n",
       "    </tr>\n",
       "    <tr>\n",
       "      <th>cashier_1000_14</th>\n",
       "      <td>7</td>\n",
       "    </tr>\n",
       "    <tr>\n",
       "      <th>cashier_1000_15</th>\n",
       "      <td>10</td>\n",
       "    </tr>\n",
       "    <tr>\n",
       "      <th>cashier_1000_16</th>\n",
       "      <td>10</td>\n",
       "    </tr>\n",
       "    <tr>\n",
       "      <th>cashier_1000_17</th>\n",
       "      <td>10</td>\n",
       "    </tr>\n",
       "  </tbody>\n",
       "</table>\n",
       "</div>"
      ],
      "text/plain": [
       "                 values\n",
       "simulation             \n",
       "cashier_1000_10       4\n",
       "cashier_1000_11       6\n",
       "cashier_1000_12       3\n",
       "cashier_1000_13       8\n",
       "cashier_1000_14       7\n",
       "cashier_1000_15      10\n",
       "cashier_1000_16      10\n",
       "cashier_1000_17      10"
      ]
     },
     "execution_count": 15,
     "metadata": {},
     "output_type": "execute_result"
    }
   ],
   "source": [
    "series = series.reset_index()\n",
    "series.set_index(['measure', 'simulation', 'iteration'], inplace=True)\n",
    "df = pd.DataFrame(series['values']['OUT_CUSTOMER_WAIT_TIMES'].apply(lambda x: x.mean()))\n",
    "df.loc[df['values'] < 15].groupby(['simulation']).count()"
   ]
  },
  {
   "cell_type": "markdown",
   "metadata": {},
   "source": [
    "## This gives us a good idea of where to start. Lets look at simulations of 13-17 cashiers, but this time, we'll run a years worth of iterations."
   ]
  },
  {
   "cell_type": "code",
   "execution_count": null,
   "metadata": {
    "collapsed": true
   },
   "outputs": [],
   "source": []
  }
 ],
 "metadata": {
  "kernelspec": {
   "display_name": "Python 2",
   "language": "python",
   "name": "python2"
  },
  "language_info": {
   "codemirror_mode": {
    "name": "ipython",
    "version": 2
   },
   "file_extension": ".py",
   "mimetype": "text/x-python",
   "name": "python",
   "nbconvert_exporter": "python",
   "pygments_lexer": "ipython2",
   "version": "2.7.10"
  }
 },
 "nbformat": 4,
 "nbformat_minor": 2
}
