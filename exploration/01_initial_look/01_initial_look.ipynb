{
 "cells": [
  {
   "cell_type": "markdown",
   "metadata": {},
   "source": [
    "## Load the matplotlib magic and the normal pandas stack"
   ]
  },
  {
   "cell_type": "code",
   "execution_count": 7,
   "metadata": {
    "collapsed": true
   },
   "outputs": [],
   "source": [
    "%matplotlib inline\n",
    "import pandas as pd\n",
    "import numpy as np\n",
    "from matplotlib import pyplot\n",
    "import os\n",
    "import re\n",
    "\n",
    "## here we'll set the matplotlib figure size to take up more real estate\n",
    "pyplot.rcParams['figure.figsize'] = [12, 5]"
   ]
  },
  {
   "cell_type": "markdown",
   "metadata": {},
   "source": [
    "## Read the data into a set of DataFrames"
   ]
  },
  {
   "cell_type": "code",
   "execution_count": 8,
   "metadata": {
    "collapsed": true
   },
   "outputs": [],
   "source": [
    "outputFiles = os.listdir('./output')\n",
    "output_series = (list(), list())\n",
    "output_metrics = (list(), list())\n",
    "inputs = (list(), list())\n",
    "for outputFile in outputFiles:\n",
    "    simName = outputFile[:outputFile.index('.output')]\n",
    "    with open(\"./output/\" + outputFile, 'r') as f:\n",
    "        for cnt, line in enumerate(f):\n",
    "            split = line.split()\n",
    "            if len(split) > 1:\n",
    "                if split[0].startswith('OUT'):\n",
    "                    measure = split[0][:split[0].rfind('_')]\n",
    "                    iteration = int(split[0][split[0].rfind('_')+1:])\n",
    "                    if len(split) > 2:\n",
    "                        output_series[0].append((simName, measure, iteration))\n",
    "                        output_series[1].append(pd.Series(split[1:]).astype(float))\n",
    "                    else:\n",
    "                        output_metrics[0].append((simName, measure, iteration))\n",
    "                        output_metrics[1].append(float(split[1]))\n",
    "                        \n",
    "                if split[0].startswith('INP'):\n",
    "                    inputs[0].append((simName, split[0]))\n",
    "                    inputs[1].append(float(split[1]))\n",
    "                                   \n",
    "series_index = pd.MultiIndex.from_tuples(output_series[0], names=['simulation', 'measure', 'iteration'])\n",
    "series = pd.DataFrame(pd.Series(output_series[1], index=series_index), columns=['values'])\n",
    "\n",
    "metrics_index = pd.MultiIndex.from_tuples(output_metrics[0], names=['simulation', 'measure', 'iteration'])\n",
    "metrics = pd.DataFrame(pd.Series(output_metrics[1], index=metrics_index), columns=['values'])\n",
    "\n",
    "inputs_index = pd.MultiIndex.from_tuples(inputs[0], names=['simulation', 'measure'])\n",
    "inputs = pd.DataFrame(pd.Series(inputs[1], index=inputs_index), columns=['values'])\n"
   ]
  },
  {
   "cell_type": "markdown",
   "metadata": {},
   "source": [
    "## Great, lets take a look at the data! We'll look at the 1000 customer / 10 cashier scenario and create a histogram of the customer shop times."
   ]
  },
  {
   "cell_type": "code",
   "execution_count": 9,
   "metadata": {},
   "outputs": [
    {
     "data": {
      "text/plain": [
       "count    1000.000000\n",
       "mean       10.538207\n",
       "std         8.292894\n",
       "min         2.011400\n",
       "25%         4.348350\n",
       "50%         7.997150\n",
       "75%        13.813400\n",
       "max        54.025900\n",
       "dtype: float64"
      ]
     },
     "execution_count": 9,
     "metadata": {},
     "output_type": "execute_result"
    },
    {
     "data": {
      "image/png": "[encoded data removed]",
      "text/plain": [
       "<matplotlib.figure.Figure at 0x109feee90>"
      ]
     },
     "metadata": {},
     "output_type": "display_data"
    }
   ],
   "source": [
    "shopTimes = series['values']['cashier_1000_10']['OUT_CUSTOMER_SHOP_TIMES'][0]\n",
    "_, division = np.histogram(shopTimes, range(int(shopTimes.min()),int(shopTimes.max()),1))\n",
    "shopTimes.hist(bins=division)\n",
    "shopTimes.describe()"
   ]
  },
  {
   "cell_type": "markdown",
   "metadata": {},
   "source": [
    "## We can see it is a lognormal distribution, with a mean of around 15 minutes and a standard deviation of ~8 minutes. That matches up with our input."
   ]
  },
  {
   "cell_type": "markdown",
   "metadata": {},
   "source": [
    "## Lets take a look at some entry times."
   ]
  },
  {
   "cell_type": "code",
   "execution_count": 10,
   "metadata": {},
   "outputs": [
    {
     "data": {
      "text/plain": [
       "count    1000.000000\n",
       "mean      119.752568\n",
       "std        58.774036\n",
       "min        22.266000\n",
       "25%        77.527750\n",
       "50%       107.474900\n",
       "75%       147.398025\n",
       "max       512.871300\n",
       "dtype: float64"
      ]
     },
     "execution_count": 10,
     "metadata": {},
     "output_type": "execute_result"
    },
    {
     "data": {
      "image/png": "[encoded data removed]",
      "text/plain": [
       "<matplotlib.figure.Figure at 0x109bdaa50>"
      ]
     },
     "metadata": {},
     "output_type": "display_data"
    }
   ],
   "source": [
    "entryTimes = series['values']['cashier_1000_10']['OUT_CUSTOMER_ENTRY_TIMES'][0]\n",
    "count, division = np.histogram(entryTimes, range(int(entryTimes.min()),int(entryTimes.max()),10))\n",
    "entryTimes.hist(bins=division)\n",
    "entryTimes.describe()"
   ]
  },
  {
   "cell_type": "markdown",
   "metadata": {},
   "source": [
    "## Again, a lognormal distribution. A mean of 120 minutes with a standard deviation of ~ an hour. So far, so good. Lets take a look at the customer wait times"
   ]
  },
  {
   "cell_type": "code",
   "execution_count": 11,
   "metadata": {},
   "outputs": [
    {
     "data": {
      "text/html": [
       "<div>\n",
       "<style scoped>\n",
       "    .dataframe tbody tr th:only-of-type {\n",
       "        vertical-align: middle;\n",
       "    }\n",
       "\n",
       "    .dataframe tbody tr th {\n",
       "        vertical-align: top;\n",
       "    }\n",
       "\n",
       "    .dataframe thead th {\n",
       "        text-align: right;\n",
       "    }\n",
       "</style>\n",
       "<table border=\"1\" class=\"dataframe\">\n",
       "  <thead>\n",
       "    <tr style=\"text-align: right;\">\n",
       "      <th></th>\n",
       "      <th>count</th>\n",
       "      <th>mean</th>\n",
       "      <th>std</th>\n",
       "      <th>min</th>\n",
       "      <th>25%</th>\n",
       "      <th>50%</th>\n",
       "      <th>75%</th>\n",
       "      <th>max</th>\n",
       "    </tr>\n",
       "    <tr>\n",
       "      <th>iteration</th>\n",
       "      <th></th>\n",
       "      <th></th>\n",
       "      <th></th>\n",
       "      <th></th>\n",
       "      <th></th>\n",
       "      <th></th>\n",
       "      <th></th>\n",
       "      <th></th>\n",
       "    </tr>\n",
       "  </thead>\n",
       "  <tbody>\n",
       "    <tr>\n",
       "      <th>9</th>\n",
       "      <td>1000.0</td>\n",
       "      <td>36.837381</td>\n",
       "      <td>24.042133</td>\n",
       "      <td>0.0</td>\n",
       "      <td>12.511825</td>\n",
       "      <td>41.35545</td>\n",
       "      <td>61.376400</td>\n",
       "      <td>67.5160</td>\n",
       "    </tr>\n",
       "    <tr>\n",
       "      <th>2</th>\n",
       "      <td>1000.0</td>\n",
       "      <td>40.781106</td>\n",
       "      <td>25.813258</td>\n",
       "      <td>0.0</td>\n",
       "      <td>16.052625</td>\n",
       "      <td>45.20225</td>\n",
       "      <td>65.523175</td>\n",
       "      <td>73.8203</td>\n",
       "    </tr>\n",
       "    <tr>\n",
       "      <th>4</th>\n",
       "      <td>1000.0</td>\n",
       "      <td>39.021708</td>\n",
       "      <td>25.669850</td>\n",
       "      <td>0.0</td>\n",
       "      <td>14.626350</td>\n",
       "      <td>41.69490</td>\n",
       "      <td>63.086375</td>\n",
       "      <td>75.1371</td>\n",
       "    </tr>\n",
       "    <tr>\n",
       "      <th>5</th>\n",
       "      <td>1000.0</td>\n",
       "      <td>55.421882</td>\n",
       "      <td>34.782008</td>\n",
       "      <td>0.0</td>\n",
       "      <td>23.623225</td>\n",
       "      <td>59.71940</td>\n",
       "      <td>88.945800</td>\n",
       "      <td>102.2726</td>\n",
       "    </tr>\n",
       "    <tr>\n",
       "      <th>6</th>\n",
       "      <td>1000.0</td>\n",
       "      <td>15.075314</td>\n",
       "      <td>11.356403</td>\n",
       "      <td>0.0</td>\n",
       "      <td>2.650175</td>\n",
       "      <td>15.15200</td>\n",
       "      <td>26.357375</td>\n",
       "      <td>31.1174</td>\n",
       "    </tr>\n",
       "    <tr>\n",
       "      <th>3</th>\n",
       "      <td>1000.0</td>\n",
       "      <td>23.199024</td>\n",
       "      <td>16.391236</td>\n",
       "      <td>0.0</td>\n",
       "      <td>6.812200</td>\n",
       "      <td>23.52180</td>\n",
       "      <td>39.558375</td>\n",
       "      <td>45.5785</td>\n",
       "    </tr>\n",
       "    <tr>\n",
       "      <th>1</th>\n",
       "      <td>1000.0</td>\n",
       "      <td>21.265424</td>\n",
       "      <td>13.959399</td>\n",
       "      <td>0.0</td>\n",
       "      <td>7.631825</td>\n",
       "      <td>22.97315</td>\n",
       "      <td>35.337675</td>\n",
       "      <td>40.3137</td>\n",
       "    </tr>\n",
       "    <tr>\n",
       "      <th>0</th>\n",
       "      <td>1000.0</td>\n",
       "      <td>50.145699</td>\n",
       "      <td>31.013022</td>\n",
       "      <td>0.0</td>\n",
       "      <td>20.799375</td>\n",
       "      <td>57.17685</td>\n",
       "      <td>79.147375</td>\n",
       "      <td>91.5860</td>\n",
       "    </tr>\n",
       "    <tr>\n",
       "      <th>8</th>\n",
       "      <td>1000.0</td>\n",
       "      <td>23.546296</td>\n",
       "      <td>16.419651</td>\n",
       "      <td>0.0</td>\n",
       "      <td>7.441150</td>\n",
       "      <td>24.78015</td>\n",
       "      <td>38.943100</td>\n",
       "      <td>47.4195</td>\n",
       "    </tr>\n",
       "    <tr>\n",
       "      <th>7</th>\n",
       "      <td>1000.0</td>\n",
       "      <td>27.023516</td>\n",
       "      <td>18.195098</td>\n",
       "      <td>0.0</td>\n",
       "      <td>9.468825</td>\n",
       "      <td>27.97765</td>\n",
       "      <td>45.614725</td>\n",
       "      <td>51.3036</td>\n",
       "    </tr>\n",
       "  </tbody>\n",
       "</table>\n",
       "</div>"
      ],
      "text/plain": [
       "            count       mean        std  min        25%       50%        75%  \\\n",
       "iteration                                                                      \n",
       "9          1000.0  36.837381  24.042133  0.0  12.511825  41.35545  61.376400   \n",
       "2          1000.0  40.781106  25.813258  0.0  16.052625  45.20225  65.523175   \n",
       "4          1000.0  39.021708  25.669850  0.0  14.626350  41.69490  63.086375   \n",
       "5          1000.0  55.421882  34.782008  0.0  23.623225  59.71940  88.945800   \n",
       "6          1000.0  15.075314  11.356403  0.0   2.650175  15.15200  26.357375   \n",
       "3          1000.0  23.199024  16.391236  0.0   6.812200  23.52180  39.558375   \n",
       "1          1000.0  21.265424  13.959399  0.0   7.631825  22.97315  35.337675   \n",
       "0          1000.0  50.145699  31.013022  0.0  20.799375  57.17685  79.147375   \n",
       "8          1000.0  23.546296  16.419651  0.0   7.441150  24.78015  38.943100   \n",
       "7          1000.0  27.023516  18.195098  0.0   9.468825  27.97765  45.614725   \n",
       "\n",
       "                max  \n",
       "iteration            \n",
       "9           67.5160  \n",
       "2           73.8203  \n",
       "4           75.1371  \n",
       "5          102.2726  \n",
       "6           31.1174  \n",
       "3           45.5785  \n",
       "1           40.3137  \n",
       "0           91.5860  \n",
       "8           47.4195  \n",
       "7           51.3036  "
      ]
     },
     "execution_count": 11,
     "metadata": {},
     "output_type": "execute_result"
    }
   ],
   "source": [
    "series['values']['cashier_1000_10']['OUT_CUSTOMER_WAIT_TIMES'].apply(lambda x: x.describe())"
   ]
  },
  {
   "cell_type": "markdown",
   "metadata": {},
   "source": [
    "## Wow, look at those wait times. There is only one iteration that has a mean wait time < 20 minutes. \n",
    "---\n",
    "## Lets broaden our view. We'll count the iterations for each simulation that has a mean wait time of < 15 minutes."
   ]
  },
  {
   "cell_type": "code",
   "execution_count": 12,
   "metadata": {},
   "outputs": [
    {
     "data": {
      "text/html": [
       "<div>\n",
       "<style scoped>\n",
       "    .dataframe tbody tr th:only-of-type {\n",
       "        vertical-align: middle;\n",
       "    }\n",
       "\n",
       "    .dataframe tbody tr th {\n",
       "        vertical-align: top;\n",
       "    }\n",
       "\n",
       "    .dataframe thead th {\n",
       "        text-align: right;\n",
       "    }\n",
       "</style>\n",
       "<table border=\"1\" class=\"dataframe\">\n",
       "  <thead>\n",
       "    <tr style=\"text-align: right;\">\n",
       "      <th></th>\n",
       "      <th>values</th>\n",
       "    </tr>\n",
       "    <tr>\n",
       "      <th>simulation</th>\n",
       "      <th></th>\n",
       "    </tr>\n",
       "  </thead>\n",
       "  <tbody>\n",
       "    <tr>\n",
       "      <th>cashier_1000_11</th>\n",
       "      <td>2</td>\n",
       "    </tr>\n",
       "    <tr>\n",
       "      <th>cashier_1000_12</th>\n",
       "      <td>9</td>\n",
       "    </tr>\n",
       "    <tr>\n",
       "      <th>cashier_1000_13</th>\n",
       "      <td>10</td>\n",
       "    </tr>\n",
       "    <tr>\n",
       "      <th>cashier_1000_14</th>\n",
       "      <td>7</td>\n",
       "    </tr>\n",
       "    <tr>\n",
       "      <th>cashier_1000_15</th>\n",
       "      <td>10</td>\n",
       "    </tr>\n",
       "    <tr>\n",
       "      <th>cashier_1000_16</th>\n",
       "      <td>10</td>\n",
       "    </tr>\n",
       "    <tr>\n",
       "      <th>cashier_1000_17</th>\n",
       "      <td>10</td>\n",
       "    </tr>\n",
       "  </tbody>\n",
       "</table>\n",
       "</div>"
      ],
      "text/plain": [
       "                 values\n",
       "simulation             \n",
       "cashier_1000_11       2\n",
       "cashier_1000_12       9\n",
       "cashier_1000_13      10\n",
       "cashier_1000_14       7\n",
       "cashier_1000_15      10\n",
       "cashier_1000_16      10\n",
       "cashier_1000_17      10"
      ]
     },
     "execution_count": 12,
     "metadata": {},
     "output_type": "execute_result"
    }
   ],
   "source": [
    "series = series.reset_index()\n",
    "series.set_index(['measure', 'simulation', 'iteration'], inplace=True)\n",
    "df = pd.DataFrame(series['values']['OUT_CUSTOMER_WAIT_TIMES'].apply(lambda x: x.mean()))\n",
    "df.loc[df['values'] < 15].groupby(['simulation']).count()"
   ]
  },
  {
   "cell_type": "markdown",
   "metadata": {},
   "source": [
    "## This gives us a good idea of where to start. Lets look at simulations of 12-15 cashiers, but this time, we'll run 90 days worth of iterations."
   ]
  },
  {
   "cell_type": "code",
   "execution_count": null,
   "metadata": {
    "collapsed": true
   },
   "outputs": [],
   "source": []
  }
 ],
 "metadata": {
  "kernelspec": {
   "display_name": "Python 2",
   "language": "python",
   "name": "python2"
  },
  "language_info": {
   "codemirror_mode": {
    "name": "ipython",
    "version": 2
   },
   "file_extension": ".py",
   "mimetype": "text/x-python",
   "name": "python",
   "nbconvert_exporter": "python",
   "pygments_lexer": "ipython2",
   "version": "2.7.10"
  }
 },
 "nbformat": 4,
 "nbformat_minor": 2
}
