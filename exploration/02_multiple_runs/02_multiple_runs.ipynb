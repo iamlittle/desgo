{
 "cells": [
  {
   "cell_type": "markdown",
   "metadata": {},
   "source": [
    "## Again, load up the libraries and data"
   ]
  },
  {
   "cell_type": "code",
   "execution_count": 117,
   "metadata": {},
   "outputs": [],
   "source": [
    "%matplotlib inline\n",
    "import pandas as pd\n",
    "import numpy as np\n",
    "from matplotlib import pyplot\n",
    "import os\n",
    "import re\n",
    "\n",
    "## here we'll set the matplotlib figure size to take up more real estate\n",
    "pyplot.rcParams['figure.figsize'] = [12, 5]\n",
    "\n",
    "outputFiles = os.listdir('./output')\n",
    "output_series = (list(), list())\n",
    "output_metrics = (list(), list())\n",
    "inputs = (list(), list())\n",
    "for outputFile in outputFiles:\n",
    "    simName = outputFile[:outputFile.index('.output')]\n",
    "    with open(\"./output/\" + outputFile, 'r') as f:\n",
    "        for cnt, line in enumerate(f):\n",
    "            split = line.split()\n",
    "            if len(split) > 1:\n",
    "                if split[0].startswith('OUT'):\n",
    "                    measure = split[0][:split[0].rfind('_')]\n",
    "                    iteration = int(split[0][split[0].rfind('_')+1:])\n",
    "                    if len(split) > 2:\n",
    "                        output_series[0].append((simName, measure, iteration))\n",
    "                        output_series[1].append(pd.Series(split[1:]).astype(float))\n",
    "                    else:\n",
    "                        output_metrics[0].append((simName, measure, iteration))\n",
    "                        output_metrics[1].append(float(split[1]))\n",
    "                        \n",
    "                if split[0].startswith('INP'):\n",
    "                    inputs[0].append((simName, split[0]))\n",
    "                    inputs[1].append(float(split[1]))\n",
    "                                   \n",
    "series_index = pd.MultiIndex.from_tuples(output_series[0], names=['simulation', 'measure', 'iteration'])\n",
    "series = pd.DataFrame(pd.Series(output_series[1], index=series_index), columns=['values'])\n",
    "\n",
    "metrics_index = pd.MultiIndex.from_tuples(output_metrics[0], names=['simulation', 'measure', 'iteration'])\n",
    "metrics = pd.DataFrame(pd.Series(output_metrics[1], index=metrics_index), columns=['values'])\n",
    "\n",
    "inputs_index = pd.MultiIndex.from_tuples(inputs[0], names=['simulation', 'measure'])\n",
    "inputs = pd.DataFrame(pd.Series(inputs[1], index=inputs_index), columns=['values'])\n"
   ]
  },
  {
   "cell_type": "markdown",
   "metadata": {},
   "source": [
    "## Lets take a look at the 22 cashier configuration again. This time we have run 10 simulations. Lets graph any solutions that have a max wait time larger than 10 minutes."
   ]
  },
  {
   "cell_type": "code",
   "execution_count": 118,
   "metadata": {},
   "outputs": [
    {
     "data": {
      "text/html": [
       "<div>\n",
       "<style scoped>\n",
       "    .dataframe tbody tr th:only-of-type {\n",
       "        vertical-align: middle;\n",
       "    }\n",
       "\n",
       "    .dataframe tbody tr th {\n",
       "        vertical-align: top;\n",
       "    }\n",
       "\n",
       "    .dataframe thead th {\n",
       "        text-align: right;\n",
       "    }\n",
       "</style>\n",
       "<table border=\"1\" class=\"dataframe\">\n",
       "  <thead>\n",
       "    <tr style=\"text-align: right;\">\n",
       "      <th></th>\n",
       "      <th>mean_wait</th>\n",
       "      <th>mean_idle</th>\n",
       "    </tr>\n",
       "    <tr>\n",
       "      <th>simulation</th>\n",
       "      <th></th>\n",
       "      <th></th>\n",
       "    </tr>\n",
       "  </thead>\n",
       "  <tbody>\n",
       "    <tr>\n",
       "      <th>cashier_1000_13</th>\n",
       "      <td>80</td>\n",
       "      <td>80</td>\n",
       "    </tr>\n",
       "    <tr>\n",
       "      <th>cashier_1000_14</th>\n",
       "      <td>88</td>\n",
       "      <td>88</td>\n",
       "    </tr>\n",
       "    <tr>\n",
       "      <th>cashier_1000_15</th>\n",
       "      <td>96</td>\n",
       "      <td>96</td>\n",
       "    </tr>\n",
       "    <tr>\n",
       "      <th>cashier_1000_16</th>\n",
       "      <td>94</td>\n",
       "      <td>94</td>\n",
       "    </tr>\n",
       "    <tr>\n",
       "      <th>cashier_1000_17</th>\n",
       "      <td>99</td>\n",
       "      <td>99</td>\n",
       "    </tr>\n",
       "  </tbody>\n",
       "</table>\n",
       "</div>"
      ],
      "text/plain": [
       "                 mean_wait  mean_idle\n",
       "simulation                           \n",
       "cashier_1000_13         80         80\n",
       "cashier_1000_14         88         88\n",
       "cashier_1000_15         96         96\n",
       "cashier_1000_16         94         94\n",
       "cashier_1000_17         99         99"
      ]
     },
     "execution_count": 118,
     "metadata": {},
     "output_type": "execute_result"
    }
   ],
   "source": [
    "series = series.reset_index()\n",
    "series.set_index(['measure', 'simulation', 'iteration'], inplace=True)\n",
    "meanWaitTimes = series['values']['OUT_CUSTOMER_WAIT_TIMES'].apply(lambda x: x.mean())\n",
    "meanIdleTimes = series['values']['OUT_CASHIER_IDLE_TIMES'].apply(lambda x: x.mean())\n",
    "mean_times = pd.concat([meanWaitTimes, meanIdleTimes], axis=1)\n",
    "mean_times.columns = ['mean_wait', 'mean_idle']\n",
    "\n",
    "\n",
    "# df = pd.DataFrame(series['values']['OUT_CUSTOMER_WAIT_TIMES'].apply(lambda x: x.mean()))\n",
    "mean_times.loc[df['mean_wait'] < 15].groupby('simulation').count()\n"
   ]
  },
  {
   "cell_type": "markdown",
   "metadata": {},
   "source": [
    "## This is interesting. We can see that with 17 cashiers, the mean wait time is less than 15 minutes 99% of the time. Furthermore, 15 and 16 cashiers' mean wait time is less than 15 minutes ~95% of the time. Lets dig into those two."
   ]
  },
  {
   "cell_type": "code",
   "execution_count": 144,
   "metadata": {},
   "outputs": [
    {
     "data": {
      "text/plain": [
       "42.38445"
      ]
     },
     "execution_count": 144,
     "metadata": {},
     "output_type": "execute_result"
    }
   ],
   "source": [
    "series['values']['cashier_1000_16'].apply(lambda x: x.describe())['75%']['OUT_CUSTOMER_WAIT_TIMES'].max()"
   ]
  },
  {
   "cell_type": "code",
   "execution_count": 6,
   "metadata": {},
   "outputs": [
    {
     "ename": "NameError",
     "evalue": "name 'output' is not defined",
     "output_type": "error",
     "traceback": [
      "\u001b[0;31m---------------------------------------------------------------------------\u001b[0m",
      "\u001b[0;31mNameError\u001b[0m                                 Traceback (most recent call last)",
      "\u001b[0;32m<ipython-input-6-c0fcddae2500>\u001b[0m in \u001b[0;36m<module>\u001b[0;34m()\u001b[0m\n\u001b[1;32m      1\u001b[0m \u001b[0mbins\u001b[0m \u001b[0;34m=\u001b[0m \u001b[0mnp\u001b[0m\u001b[0;34m.\u001b[0m\u001b[0mlinspace\u001b[0m\u001b[0;34m(\u001b[0m\u001b[0;36m10\u001b[0m\u001b[0;34m,\u001b[0m \u001b[0;36m70\u001b[0m\u001b[0;34m,\u001b[0m \u001b[0;36m100\u001b[0m\u001b[0;34m)\u001b[0m\u001b[0;34m\u001b[0m\u001b[0m\n\u001b[0;32m----> 2\u001b[0;31m \u001b[0mwaitTimeKeys\u001b[0m \u001b[0;34m=\u001b[0m \u001b[0mfilter\u001b[0m\u001b[0;34m(\u001b[0m\u001b[0;32mlambda\u001b[0m \u001b[0mk\u001b[0m\u001b[0;34m:\u001b[0m \u001b[0mk\u001b[0m\u001b[0;34m.\u001b[0m\u001b[0mstartswith\u001b[0m\u001b[0;34m(\u001b[0m\u001b[0;34m'OUT_CUSTOMER_WAIT_TIMES'\u001b[0m\u001b[0;34m)\u001b[0m\u001b[0;34m,\u001b[0m \u001b[0moutput\u001b[0m\u001b[0;34m[\u001b[0m\u001b[0;34m'cashier_1000_22.output'\u001b[0m\u001b[0;34m]\u001b[0m\u001b[0;34m.\u001b[0m\u001b[0mkeys\u001b[0m\u001b[0;34m(\u001b[0m\u001b[0;34m)\u001b[0m\u001b[0;34m)\u001b[0m\u001b[0;34m\u001b[0m\u001b[0m\n\u001b[0m\u001b[1;32m      3\u001b[0m \u001b[0;32mfor\u001b[0m \u001b[0mkey\u001b[0m\u001b[0;34m,\u001b[0m \u001b[0mwaitTimes\u001b[0m \u001b[0;32min\u001b[0m \u001b[0;34m{\u001b[0m\u001b[0mkey\u001b[0m\u001b[0;34m:\u001b[0m \u001b[0moutput\u001b[0m\u001b[0;34m[\u001b[0m\u001b[0;34m'cashier_1000_22.output'\u001b[0m\u001b[0;34m]\u001b[0m\u001b[0;34m[\u001b[0m\u001b[0mkey\u001b[0m\u001b[0;34m]\u001b[0m\u001b[0;34m.\u001b[0m\u001b[0mastype\u001b[0m\u001b[0;34m(\u001b[0m\u001b[0mfloat\u001b[0m\u001b[0;34m)\u001b[0m \u001b[0;32mfor\u001b[0m \u001b[0mkey\u001b[0m \u001b[0;32min\u001b[0m \u001b[0mwaitTimeKeys\u001b[0m\u001b[0;34m}\u001b[0m\u001b[0;34m.\u001b[0m\u001b[0miteritems\u001b[0m\u001b[0;34m(\u001b[0m\u001b[0;34m)\u001b[0m\u001b[0;34m:\u001b[0m\u001b[0;34m\u001b[0m\u001b[0m\n\u001b[1;32m      4\u001b[0m     \u001b[0;32mif\u001b[0m \u001b[0mwaitTimes\u001b[0m\u001b[0;34m.\u001b[0m\u001b[0mmax\u001b[0m\u001b[0;34m(\u001b[0m\u001b[0;34m)\u001b[0m \u001b[0;34m>\u001b[0m \u001b[0;36m10\u001b[0m\u001b[0;34m:\u001b[0m\u001b[0;34m\u001b[0m\u001b[0m\n\u001b[1;32m      5\u001b[0m         \u001b[0mpyplot\u001b[0m\u001b[0;34m.\u001b[0m\u001b[0mhist\u001b[0m\u001b[0;34m(\u001b[0m\u001b[0mwaitTimes\u001b[0m\u001b[0;34m,\u001b[0m \u001b[0mbins\u001b[0m\u001b[0;34m,\u001b[0m \u001b[0malpha\u001b[0m\u001b[0;34m=\u001b[0m\u001b[0;36m0.5\u001b[0m\u001b[0;34m,\u001b[0m \u001b[0mlabel\u001b[0m\u001b[0;34m=\u001b[0m\u001b[0mkey\u001b[0m\u001b[0;34m)\u001b[0m\u001b[0;34m\u001b[0m\u001b[0m\n",
      "\u001b[0;31mNameError\u001b[0m: name 'output' is not defined"
     ]
    }
   ],
   "source": [
    "bins = np.linspace(10, 70, 100)\n",
    "waitTimeKeys = filter(lambda k: k.startswith('OUT_CUSTOMER_WAIT_TIMES'), output['cashier_1000_22.output'].keys())\n",
    "for key, waitTimes in {key: output['cashier_1000_22.output'][key].astype(float) for key in waitTimeKeys}.iteritems():\n",
    "    if waitTimes.max() > 10:\n",
    "        pyplot.hist(waitTimes, bins, alpha=0.5, label=key)\n",
    "pyplot.legend(loc='upper right')\n",
    "pyplot.show()"
   ]
  },
  {
   "cell_type": "markdown",
   "metadata": {},
   "source": [
    "## We see here that there are 3 solutions with wait times larger than 10 minutes, but only one that has several wait times over 15 minutes: solution #8."
   ]
  },
  {
   "cell_type": "code",
   "execution_count": null,
   "metadata": {
    "collapsed": true
   },
   "outputs": [],
   "source": [
    "## Lets see what the wait times look like in a 24 cashier scenario."
   ]
  },
  {
   "cell_type": "code",
   "execution_count": null,
   "metadata": {},
   "outputs": [],
   "source": [
    "bins = np.linspace(5, 10, 100)\n",
    "waitTimeKeys = filter(lambda k: k.startswith('OUT_CUSTOMER_WAIT_TIMES'), output['cashier_1000_24.output'].keys())\n",
    "for key, waitTimes in {key: output['cashier_1000_24.output'][key].astype(float) for key in waitTimeKeys}.iteritems():\n",
    "    if waitTimes.max() > 5:\n",
    "        pyplot.hist(waitTimes, bins, alpha=0.5, label=key)\n",
    "pyplot.legend(loc='upper right')\n",
    "pyplot.show()"
   ]
  },
  {
   "cell_type": "markdown",
   "metadata": {},
   "source": [
    "## Here we see a single solution with wait times over 5 minutes, but no wait times over ~6 minutes exist in the solutions."
   ]
  },
  {
   "cell_type": "code",
   "execution_count": null,
   "metadata": {
    "collapsed": true
   },
   "outputs": [],
   "source": []
  }
 ],
 "metadata": {
  "kernelspec": {
   "display_name": "Python 2",
   "language": "python",
   "name": "python2"
  },
  "language_info": {
   "codemirror_mode": {
    "name": "ipython",
    "version": 2
   },
   "file_extension": ".py",
   "mimetype": "text/x-python",
   "name": "python",
   "nbconvert_exporter": "python",
   "pygments_lexer": "ipython2",
   "version": "2.7.10"
  }
 },
 "nbformat": 4,
 "nbformat_minor": 2
}
