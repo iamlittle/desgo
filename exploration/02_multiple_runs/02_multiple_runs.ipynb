{
 "cells": [
  {
   "cell_type": "markdown",
   "metadata": {},
   "source": [
    "## Again, load up the libraries and data"
   ]
  },
  {
   "cell_type": "code",
   "execution_count": 1,
   "metadata": {
    "collapsed": true
   },
   "outputs": [],
   "source": [
    "%matplotlib inline\n",
    "import pandas as pd\n",
    "import numpy as np\n",
    "from matplotlib import pyplot\n",
    "import os\n",
    "import re\n",
    "\n",
    "## here we'll set the matplotlib figure size to take up more real estate\n",
    "pyplot.rcParams['figure.figsize'] = [12, 5]\n",
    "\n",
    "outputFiles = os.listdir('./output')\n",
    "output_series = (list(), list())\n",
    "output_metrics = (list(), list())\n",
    "inputs = (list(), list())\n",
    "for outputFile in outputFiles:\n",
    "    simName = outputFile[:outputFile.index('.output')]\n",
    "    with open(\"./output/\" + outputFile, 'r') as f:\n",
    "        for cnt, line in enumerate(f):\n",
    "            split = line.split()\n",
    "            if len(split) > 1:\n",
    "                if split[0].startswith('OUT'):\n",
    "                    measure = split[0][:split[0].rfind('_')]\n",
    "                    iteration = int(split[0][split[0].rfind('_')+1:])\n",
    "                    if len(split) > 2:\n",
    "                        output_series[0].append((simName, measure, iteration))\n",
    "                        output_series[1].append(pd.Series(split[1:]).astype(float))\n",
    "                    else:\n",
    "                        output_metrics[0].append((simName, measure, iteration))\n",
    "                        output_metrics[1].append(float(split[1]))\n",
    "                        \n",
    "                if split[0].startswith('INP'):\n",
    "                    inputs[0].append((simName, split[0]))\n",
    "                    inputs[1].append(float(split[1]))\n",
    "                                   \n",
    "series_index = pd.MultiIndex.from_tuples(output_series[0], names=['simulation', 'measure', 'iteration'])\n",
    "series = pd.DataFrame(pd.Series(output_series[1], index=series_index), columns=['values'])\n",
    "\n",
    "metrics_index = pd.MultiIndex.from_tuples(output_metrics[0], names=['simulation', 'measure', 'iteration'])\n",
    "metrics = pd.DataFrame(pd.Series(output_metrics[1], index=metrics_index), columns=['values'])\n",
    "\n",
    "inputs_index = pd.MultiIndex.from_tuples(inputs[0], names=['simulation', 'measure'])\n",
    "inputs = pd.DataFrame(pd.Series(inputs[1], index=inputs_index), columns=['values'])\n"
   ]
  },
  {
   "cell_type": "markdown",
   "metadata": {},
   "source": [
    "## We'll count the number of iterations with mean wait times of < 15 minutes for each simulation"
   ]
  },
  {
   "cell_type": "code",
   "execution_count": 17,
   "metadata": {},
   "outputs": [
    {
     "data": {
      "text/html": [
       "<div>\n",
       "<style scoped>\n",
       "    .dataframe tbody tr th:only-of-type {\n",
       "        vertical-align: middle;\n",
       "    }\n",
       "\n",
       "    .dataframe tbody tr th {\n",
       "        vertical-align: top;\n",
       "    }\n",
       "\n",
       "    .dataframe thead th {\n",
       "        text-align: right;\n",
       "    }\n",
       "</style>\n",
       "<table border=\"1\" class=\"dataframe\">\n",
       "  <thead>\n",
       "    <tr style=\"text-align: right;\">\n",
       "      <th></th>\n",
       "      <th>values</th>\n",
       "    </tr>\n",
       "    <tr>\n",
       "      <th>simulation</th>\n",
       "      <th></th>\n",
       "    </tr>\n",
       "  </thead>\n",
       "  <tbody>\n",
       "    <tr>\n",
       "      <th>cashier_1000_12</th>\n",
       "      <td>38</td>\n",
       "    </tr>\n",
       "    <tr>\n",
       "      <th>cashier_1000_13</th>\n",
       "      <td>65</td>\n",
       "    </tr>\n",
       "    <tr>\n",
       "      <th>cashier_1000_14</th>\n",
       "      <td>83</td>\n",
       "    </tr>\n",
       "    <tr>\n",
       "      <th>cashier_1000_15</th>\n",
       "      <td>82</td>\n",
       "    </tr>\n",
       "    <tr>\n",
       "      <th>cashier_1000_16</th>\n",
       "      <td>86</td>\n",
       "    </tr>\n",
       "  </tbody>\n",
       "</table>\n",
       "</div>"
      ],
      "text/plain": [
       "                 values\n",
       "simulation             \n",
       "cashier_1000_12      38\n",
       "cashier_1000_13      65\n",
       "cashier_1000_14      83\n",
       "cashier_1000_15      82\n",
       "cashier_1000_16      86"
      ]
     },
     "execution_count": 17,
     "metadata": {},
     "output_type": "execute_result"
    }
   ],
   "source": [
    "series = series.reset_index()\n",
    "series.set_index(['measure', 'simulation', 'iteration'], inplace=True)\n",
    "mean_waits = pd.DataFrame(series['values']['OUT_CUSTOMER_WAIT_TIMES'].apply(lambda x: x.mean()))\n",
    "mean_waits.loc[mean_waits['values'] < 15].groupby('simulation').count()"
   ]
  },
  {
   "cell_type": "markdown",
   "metadata": {},
   "source": [
    "## It looks like the sweet spot is between 14 and 16 cashiers. The three of them produce wait times less than 15 minutes 90% of the time or better.\n",
    "---\n",
    "## Lets look at the mean wait times for these three simulations. "
   ]
  },
  {
   "cell_type": "code",
   "execution_count": 11,
   "metadata": {},
   "outputs": [
    {
     "data": {
      "image/png": "[encoded data removed]",
      "text/plain": [
       "<matplotlib.figure.Figure at 0x1240b2550>"
      ]
     },
     "metadata": {},
     "output_type": "display_data"
    }
   ],
   "source": [
    "wait_mean_14 = series['values']['OUT_CUSTOMER_WAIT_TIMES']['cashier_1000_14'].apply(lambda x: x.mean())\n",
    "wait_mean_15 = series['values']['OUT_CUSTOMER_WAIT_TIMES']['cashier_1000_15'].apply(lambda x: x.mean())\n",
    "wait_mean_16 = series['values']['OUT_CUSTOMER_WAIT_TIMES']['cashier_1000_16'].apply(lambda x: x.mean())\n",
    "\n",
    "bins = range(0, 40, 5)\n",
    "pyplot.hist(wait_mean_14, alpha=0.5, label='cashier_1000_14', bins=bins)\n",
    "pyplot.hist(wait_mean_15, alpha=0.5, label='cashier_1000_15', bins=bins)\n",
    "pyplot.hist(wait_mean_16, alpha=0.5, label='cashier_1000_16', bins=bins)\n",
    "pyplot.legend(loc='upper right')\n",
    "pyplot.show()"
   ]
  },
  {
   "cell_type": "markdown",
   "metadata": {},
   "source": [
    "## Here we see what we would expect. 16 cashiers perform the best, providing an average wait time of < 5 minutes ~ 62% of the time, compared to 52% for 15 cashiers and 38% for 14 cashiers. We also see that 14 cashiers perform poorly rendering the most mean wait times above 10 minutes.\n",
    "---\n",
    "##  Let's focus on the 15 & 16 cashier simulations. This will be a little wonky, but lets take a look at the distributions of the 90th percentile of the wait times."
   ]
  },
  {
   "cell_type": "code",
   "execution_count": 13,
   "metadata": {},
   "outputs": [
    {
     "data": {
      "image/png": "[encoded data removed]",
      "text/plain": [
       "<matplotlib.figure.Figure at 0x1071a6310>"
      ]
     },
     "metadata": {},
     "output_type": "display_data"
    }
   ],
   "source": [
    "wait_90_quantile_15 = series['values']['OUT_CUSTOMER_WAIT_TIMES']['cashier_1000_15'].apply(lambda x: x.quantile(0.90))\n",
    "wait_90_quantile_16 = series['values']['OUT_CUSTOMER_WAIT_TIMES']['cashier_1000_16'].apply(lambda x: x.quantile(0.90))\n",
    "\n",
    "bins = range(0, 80, 10)\n",
    "pyplot.hist(wait_90_quantile_15, alpha=0.5, label='cashier_1000_15', bins=bins)\n",
    "pyplot.hist(wait_90_quantile_16, alpha=0.5, label='cashier_1000_16', bins=bins)\n",
    "pyplot.legend(loc='upper right')\n",
    "pyplot.show()"
   ]
  },
  {
   "cell_type": "markdown",
   "metadata": {},
   "source": [
    "## The 90th percentile for 16 cashiers have a wait time of < 10 minutes ~ 56 out of 90. These two simulations have similar percentile distributions. \n",
    "---\n",
    "## Let's see how the cashier idle times compare."
   ]
  },
  {
   "cell_type": "code",
   "execution_count": 18,
   "metadata": {},
   "outputs": [
    {
     "data": {
      "image/png": "[encoded data removed]",
      "text/plain": [
       "<matplotlib.figure.Figure at 0x11cf39c10>"
      ]
     },
     "metadata": {},
     "output_type": "display_data"
    }
   ],
   "source": [
    "idle_mean_15 = series['values']['OUT_CUSTOMER_WAIT_TIMES']['cashier_1000_15'].apply(lambda x: x.mean())\n",
    "idle_mean_16 = series['values']['OUT_CUSTOMER_WAIT_TIMES']['cashier_1000_16'].apply(lambda x: x.mean())\n",
    "\n",
    "bins = range(0, 45, 5)\n",
    "pyplot.hist(idle_mean_15, alpha=0.5, label='cashier_1000_15', bins=bins)\n",
    "pyplot.hist(idle_mean_16, alpha=0.5, label='cashier_1000_16', bins=bins)\n",
    "pyplot.legend(loc='upper right')\n",
    "pyplot.show() "
   ]
  },
  {
   "cell_type": "markdown",
   "metadata": {},
   "source": [
    "## The mean idle times are also very similar. Depending on the business's tolerance for wait times above twenty minutes, 15 cashiers may be the way to go."
   ]
  },
  {
   "cell_type": "code",
   "execution_count": null,
   "metadata": {
    "collapsed": true
   },
   "outputs": [],
   "source": []
  }
 ],
 "metadata": {
  "kernelspec": {
   "display_name": "Python 2",
   "language": "python",
   "name": "python2"
  },
  "language_info": {
   "codemirror_mode": {
    "name": "ipython",
    "version": 2
   },
   "file_extension": ".py",
   "mimetype": "text/x-python",
   "name": "python",
   "nbconvert_exporter": "python",
   "pygments_lexer": "ipython2",
   "version": "2.7.10"
  }
 },
 "nbformat": 4,
 "nbformat_minor": 2
}
