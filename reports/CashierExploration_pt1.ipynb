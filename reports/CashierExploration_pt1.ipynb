{
 "cells": [
  {
   "cell_type": "markdown",
   "metadata": {},
   "source": [
    "## Load the matplotlib magic and the normal pandas stack"
   ]
  },
  {
   "cell_type": "code",
   "execution_count": 282,
   "metadata": {},
   "outputs": [],
   "source": [
    "%matplotlib inline\n",
    "import pandas as pd\n",
    "import numpy as np\n",
    "from matplotlib import pyplot\n",
    "import os\n",
    "import re\n",
    "\n",
    "## here we'll set the matplotlib figure size to take up more real estate\n",
    "pyplot.rcParams['figure.figsize'] = [12, 5]"
   ]
  },
  {
   "cell_type": "markdown",
   "metadata": {},
   "source": [
    "## Read the data into a dict of dicts"
   ]
  },
  {
   "cell_type": "code",
   "execution_count": 283,
   "metadata": {},
   "outputs": [
    {
     "name": "stdout",
     "output_type": "stream",
     "text": [
      "['cashier_1000_20.output', 'cashier_1000_14.output', 'cashier_1000_26.output', 'cashier_1000_22.output', 'cashier_1000_6.output', 'cashier_1000_24.output']\n"
     ]
    }
   ],
   "source": [
    "outputFiles = os.listdir('../output')\n",
    "output = dict()\n",
    "for outputFile in outputFiles:\n",
    "    with open(\"../output/\" + outputFile, 'r') as f:\n",
    "        output[outputFile] = dict()\n",
    "        for cnt, line in enumerate(f):\n",
    "            split = line.split()\n",
    "            if len(split) > 1:\n",
    "                output[outputFile][split[0]] = pd.Series(split[1:])\n",
    "            \n",
    "print output.keys()\n"
   ]
  },
  {
   "cell_type": "markdown",
   "metadata": {},
   "source": [
    "## Great, lets take a look at the data! We'll look at the 1000 customer / 6 cashier scenario and create a histogram of the customer shop times."
   ]
  },
  {
   "cell_type": "code",
   "execution_count": 284,
   "metadata": {},
   "outputs": [
    {
     "data": {
      "text/plain": [
       "count    1000.000000\n",
       "mean        9.770404\n",
       "std         7.627657\n",
       "min         1.065700\n",
       "25%         5.071325\n",
       "50%         7.507850\n",
       "75%        12.653200\n",
       "max        90.016900\n",
       "dtype: float64"
      ]
     },
     "execution_count": 284,
     "metadata": {},
     "output_type": "execute_result"
    },
    {
     "data": {
      "image/png": "[encoded data removed]",
      "text/plain": [
       "<matplotlib.figure.Figure at 0x11a8676d0>"
      ]
     },
     "metadata": {},
     "output_type": "display_data"
    }
   ],
   "source": [
    "shopTimes = output['cashier_1000_6.output']['OUT_CUSTOMER_SHOP_TIMES_0'].astype(float)\n",
    "count, division = np.histogram(shopTimes, range(int(shopTimes.min()),int(shopTimes.max()),1))\n",
    "shopTimes.hist(bins=division)\n",
    "shopTimes.describe()"
   ]
  },
  {
   "cell_type": "markdown",
   "metadata": {},
   "source": [
    "## We can see it is a lognormal distribution, with a mean of around 10 minutes and a standard deviation of ~8 minutes. That matches up with our input."
   ]
  },
  {
   "cell_type": "markdown",
   "metadata": {},
   "source": [
    "## Lets take a look at entry times."
   ]
  },
  {
   "cell_type": "code",
   "execution_count": 285,
   "metadata": {},
   "outputs": [
    {
     "data": {
      "text/plain": [
       "count    1000.000000\n",
       "mean      120.299481\n",
       "std        58.379053\n",
       "min        18.135000\n",
       "25%        79.784175\n",
       "50%       111.235250\n",
       "75%       146.402350\n",
       "max       397.121300\n",
       "dtype: float64"
      ]
     },
     "execution_count": 285,
     "metadata": {},
     "output_type": "execute_result"
    },
    {
     "data": {
      "image/png": "[encoded data removed]",
      "text/plain": [
       "<matplotlib.figure.Figure at 0x11a903fd0>"
      ]
     },
     "metadata": {},
     "output_type": "display_data"
    }
   ],
   "source": [
    "entryTimes = output['cashier_1000_6.output']['OUT_CUSTOMER_ENTRY_TIMES_0'].astype(float)\n",
    "count, division = np.histogram(entryTimes, range(int(entryTimes.min()),int(entryTimes.max()),15))\n",
    "entryTimes.hist(bins=division)\n",
    "entryTimes.describe()"
   ]
  },
  {
   "cell_type": "markdown",
   "metadata": {},
   "source": [
    "## Again, a lognormal distribution. A mean of 120 minutes with a standard deviation of ~ an hour. So far, so good."
   ]
  },
  {
   "cell_type": "markdown",
   "metadata": {},
   "source": [
    "## Lets take a look at the customer wait times"
   ]
  },
  {
   "cell_type": "code",
   "execution_count": 288,
   "metadata": {},
   "outputs": [
    {
     "data": {
      "text/plain": [
       "count    1000.000000\n",
       "mean      134.409607\n",
       "std        79.001810\n",
       "min         0.000000\n",
       "25%        63.572700\n",
       "50%       142.050750\n",
       "75%       208.929325\n",
       "max       243.523100\n",
       "dtype: float64"
      ]
     },
     "execution_count": 288,
     "metadata": {},
     "output_type": "execute_result"
    },
    {
     "data": {
      "image/png": "[encoded data removed]",
      "text/plain": [
       "<matplotlib.figure.Figure at 0x11b2a2790>"
      ]
     },
     "metadata": {},
     "output_type": "display_data"
    }
   ],
   "source": [
    "waitTimes = output['cashier_1000_6.output']['OUT_CUSTOMER_WAIT_TIMES_0'].astype(float)\n",
    "count, division = np.histogram(waitTimes, range(int(waitTimes.min()), int(waitTimes.max()), 15))\n",
    "waitTimes.hist(bins=division)\n",
    "waitTimes.describe()"
   ]
  },
  {
   "cell_type": "markdown",
   "metadata": {},
   "source": [
    "## Wow, look at those wait times. A mean wait time of over 2.5 hours. Thats not very realistic; lets take a look at a scenario with more cashiers."
   ]
  },
  {
   "cell_type": "code",
   "execution_count": 290,
   "metadata": {},
   "outputs": [
    {
     "data": {
      "text/plain": [
       "count    1000.000000\n",
       "mean       72.291202\n",
       "std        42.949884\n",
       "min         0.000000\n",
       "25%        33.222200\n",
       "50%        80.086000\n",
       "75%       112.270600\n",
       "max       127.532900\n",
       "dtype: float64"
      ]
     },
     "execution_count": 290,
     "metadata": {},
     "output_type": "execute_result"
    },
    {
     "data": {
      "image/png": "[encoded data removed]",
      "text/plain": [
       "<matplotlib.figure.Figure at 0x1173bf110>"
      ]
     },
     "metadata": {},
     "output_type": "display_data"
    }
   ],
   "source": [
    "waitTimes_14 = output['cashier_1000_14.output']['OUT_CUSTOMER_WAIT_TIMES_0'].astype(float)\n",
    "count, division = np.histogram(waitTimes_14, range(int(waitTimes_14.min()),int(waitTimes_14.max()),15))\n",
    "waitTimes_14.hist(bins=division)\n",
    "waitTimes_14.describe()"
   ]
  },
  {
   "cell_type": "markdown",
   "metadata": {},
   "source": [
    "## Thats a little bit better, but still unreasonable. Over 150 or so people waiting in line for 2.5 hours? Lets add more cashiers."
   ]
  },
  {
   "cell_type": "code",
   "execution_count": 291,
   "metadata": {},
   "outputs": [
    {
     "data": {
      "text/plain": [
       "count    1000.000000\n",
       "mean        7.270201\n",
       "std         5.850609\n",
       "min         0.000000\n",
       "25%         0.186875\n",
       "50%         6.949600\n",
       "75%        12.907425\n",
       "max        16.381400\n",
       "dtype: float64"
      ]
     },
     "execution_count": 291,
     "metadata": {},
     "output_type": "execute_result"
    },
    {
     "data": {
      "image/png": "[encoded data removed]",
      "text/plain": [
       "<matplotlib.figure.Figure at 0x11a0a15d0>"
      ]
     },
     "metadata": {},
     "output_type": "display_data"
    }
   ],
   "source": [
    "waitTimes_22 = output['cashier_1000_22.output']['OUT_CUSTOMER_WAIT_TIMES_0'].astype(float)\n",
    "count, division = np.histogram(waitTimes_22, range(int(waitTimes_22.min()),int(waitTimes_22.max()),1))\n",
    "waitTimes_22.hist(bins=division)\n",
    "waitTimes_22.describe()"
   ]
  },
  {
   "cell_type": "markdown",
   "metadata": {},
   "source": [
    "## Thats much better. A max wait time of 8 minutes, and 75% of customers have a wait time of < 13 minutes. Remember though, these are based off of single runs. Lets run multiples in the next notebook."
   ]
  },
  {
   "cell_type": "code",
   "execution_count": null,
   "metadata": {
    "collapsed": true
   },
   "outputs": [],
   "source": []
  },
  {
   "cell_type": "code",
   "execution_count": null,
   "metadata": {
    "collapsed": true
   },
   "outputs": [],
   "source": []
  },
  {
   "cell_type": "code",
   "execution_count": null,
   "metadata": {
    "collapsed": true
   },
   "outputs": [],
   "source": []
  },
  {
   "cell_type": "code",
   "execution_count": null,
   "metadata": {
    "collapsed": true
   },
   "outputs": [],
   "source": []
  }
 ],
 "metadata": {
  "kernelspec": {
   "display_name": "Python 2",
   "language": "python",
   "name": "python2"
  },
  "language_info": {
   "codemirror_mode": {
    "name": "ipython",
    "version": 2
   },
   "file_extension": ".py",
   "mimetype": "text/x-python",
   "name": "python",
   "nbconvert_exporter": "python",
   "pygments_lexer": "ipython2",
   "version": "2.7.10"
  }
 },
 "nbformat": 4,
 "nbformat_minor": 2
}
