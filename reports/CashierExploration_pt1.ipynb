{
 "cells": [
  {
   "cell_type": "markdown",
   "metadata": {},
   "source": [
    "## Load the matplotlib magic and the normal pandas stack"
   ]
  },
  {
   "cell_type": "code",
   "execution_count": 236,
   "metadata": {
    "collapsed": true
   },
   "outputs": [],
   "source": [
    "%matplotlib inline\n",
    "import pandas as pd\n",
    "import numpy as np\n",
    "import os\n",
    "import re"
   ]
  },
  {
   "cell_type": "markdown",
   "metadata": {},
   "source": [
    "## Read the data into a dict of dicts"
   ]
  },
  {
   "cell_type": "code",
   "execution_count": 254,
   "metadata": {},
   "outputs": [
    {
     "name": "stdout",
     "output_type": "stream",
     "text": [
      "['cashier_1000_20.output', 'cashier_1000_14.output', 'cashier_1000_28.output', 'cashier_1000_22.output', 'cashier_1000_6.output', 'cashier_1000_24.output']\n"
     ]
    }
   ],
   "source": [
    "outputFiles = os.listdir('../output')\n",
    "output = dict()\n",
    "for outputFile in outputFiles:\n",
    "    with open(\"../output/\" + outputFile, 'r') as f:\n",
    "        output[outputFile] = dict()\n",
    "        for cnt, line in enumerate(f):\n",
    "            split = line.split()\n",
    "            if len(split) > 1:\n",
    "                output[outputFile][split[0]] = pd.Series(split[1:])\n",
    "            \n",
    "print output.keys()\n"
   ]
  },
  {
   "cell_type": "markdown",
   "metadata": {},
   "source": [
    "## Great, lets take a look at the data! We'll look at the 1000 customer / 6 cashier scenario and create a histogram of the customer shop times."
   ]
  },
  {
   "cell_type": "code",
   "execution_count": 255,
   "metadata": {},
   "outputs": [
    {
     "data": {
      "text/plain": [
       "count    1000.000000\n",
       "mean        9.917924\n",
       "std         8.196604\n",
       "min         1.001600\n",
       "25%         4.907825\n",
       "50%         7.785950\n",
       "75%        12.341375\n",
       "max        96.247300\n",
       "dtype: float64"
      ]
     },
     "execution_count": 255,
     "metadata": {},
     "output_type": "execute_result"
    },
    {
     "data": {
      "image/png": "[encoded data removed]",
      "text/plain": [
       "<matplotlib.figure.Figure at 0x11499ae90>"
      ]
     },
     "metadata": {},
     "output_type": "display_data"
    }
   ],
   "source": [
    "shopTimes = output['cashier_1000_6.output']['OUT_CUSTOMER_SHOP_TIMES_0'].astype(float)\n",
    "count, division = np.histogram(shopTimes, range(int(shopTimes.min()),int(shopTimes.max()),1))\n",
    "shopTimes.hist(bins=division)\n",
    "shopTimes.describe()"
   ]
  },
  {
   "cell_type": "markdown",
   "metadata": {},
   "source": [
    "## We can see it is a lognormal distribution, with a mean of around 10 minutes and a standard deviation of ~8 minutes. That matches up with our input."
   ]
  },
  {
   "cell_type": "markdown",
   "metadata": {},
   "source": [
    "## Lets take a look at entry times."
   ]
  },
  {
   "cell_type": "code",
   "execution_count": 256,
   "metadata": {},
   "outputs": [
    {
     "data": {
      "text/plain": [
       "count    1000.000000\n",
       "mean      121.656864\n",
       "std        59.894391\n",
       "min        21.881600\n",
       "25%        77.513250\n",
       "50%       110.260750\n",
       "75%       152.053325\n",
       "max       469.771400\n",
       "dtype: float64"
      ]
     },
     "execution_count": 256,
     "metadata": {},
     "output_type": "execute_result"
    },
    {
     "data": {
      "image/png": "[encoded data removed]",
      "text/plain": [
       "<matplotlib.figure.Figure at 0x11a522a50>"
      ]
     },
     "metadata": {},
     "output_type": "display_data"
    }
   ],
   "source": [
    "entryTimes = output['cashier_1000_6.output']['OUT_CUSTOMER_ENTRY_TIMES_0'].astype(float)\n",
    "count, division = np.histogram(entryTimes, range(int(entryTimes.min()),int(entryTimes.max()),15))\n",
    "entryTimes.hist(bins=division)\n",
    "entryTimes.describe()"
   ]
  },
  {
   "cell_type": "markdown",
   "metadata": {},
   "source": [
    "## Again, a lognormal distribution. A mean of 120 minutes with a standard deviation of ~ an hour. So far, so good."
   ]
  },
  {
   "cell_type": "markdown",
   "metadata": {},
   "source": [
    "## Lets take a look at the customer wait times"
   ]
  },
  {
   "cell_type": "code",
   "execution_count": 257,
   "metadata": {},
   "outputs": [
    {
     "data": {
      "text/plain": [
       "count    1000.000000\n",
       "mean      151.151596\n",
       "std        87.246451\n",
       "min         0.000000\n",
       "25%        72.578800\n",
       "50%       161.619200\n",
       "75%       233.683975\n",
       "max       267.606900\n",
       "dtype: float64"
      ]
     },
     "execution_count": 257,
     "metadata": {},
     "output_type": "execute_result"
    },
    {
     "data": {
      "image/png": "[encoded data removed]",
      "text/plain": [
       "<matplotlib.figure.Figure at 0x11a414690>"
      ]
     },
     "metadata": {},
     "output_type": "display_data"
    }
   ],
   "source": [
    "waitTimes = output['cashier_1000_6.output']['OUT_CUSTOMER_WAIT_TIMES_0'].astype(float)\n",
    "count, division = np.histogram(waitTimes, range(int(waitTimes.min()), int(waitTimes.max()), 15))\n",
    "waitTimes.hist(bins=division)\n",
    "waitTimes.describe()"
   ]
  },
  {
   "cell_type": "markdown",
   "metadata": {},
   "source": [
    "## Wow, look at those wait times. A mean wait time of over 2.5 hours. Thats not very realistic; lets take a look at a scenario with more cashiers."
   ]
  },
  {
   "cell_type": "code",
   "execution_count": 260,
   "metadata": {},
   "outputs": [
    {
     "data": {
      "text/plain": [
       "count    1000.000000\n",
       "mean       42.662295\n",
       "std        27.483663\n",
       "min         0.000000\n",
       "25%        15.560400\n",
       "50%        48.156300\n",
       "75%        68.640850\n",
       "max        78.487200\n",
       "dtype: float64"
      ]
     },
     "execution_count": 260,
     "metadata": {},
     "output_type": "execute_result"
    },
    {
     "data": {
      "image/png": "[encoded data removed]",
      "text/plain": [
       "<matplotlib.figure.Figure at 0x1145670d0>"
      ]
     },
     "metadata": {},
     "output_type": "display_data"
    }
   ],
   "source": [
    "waitTimes_14 = output['cashier_1000_14.output']['OUT_CUSTOMER_WAIT_TIMES_0'].astype(float)\n",
    "count, division = np.histogram(waitTimes_14, range(int(waitTimes_14.min()),int(waitTimes_14.max()),15))\n",
    "waitTimes_14.hist(bins=division)\n",
    "waitTimes_14.describe()"
   ]
  },
  {
   "cell_type": "markdown",
   "metadata": {},
   "source": [
    "## Thats a little bit better, but still unreasonable. Over 200 or so people waiting in line for 60-75 minutes? Lets add more cashiers."
   ]
  },
  {
   "cell_type": "code",
   "execution_count": 261,
   "metadata": {},
   "outputs": [
    {
     "data": {
      "text/plain": [
       "count    1000.000000\n",
       "mean        2.750021\n",
       "std         2.906442\n",
       "min         0.000000\n",
       "25%         0.000000\n",
       "50%         1.564400\n",
       "75%         5.866500\n",
       "max         8.066000\n",
       "dtype: float64"
      ]
     },
     "execution_count": 261,
     "metadata": {},
     "output_type": "execute_result"
    },
    {
     "data": {
      "image/png": "[encoded data removed]",
      "text/plain": [
       "<matplotlib.figure.Figure at 0x1130c2090>"
      ]
     },
     "metadata": {},
     "output_type": "display_data"
    }
   ],
   "source": [
    "waitTimes_22 = output['cashier_1000_22.output']['OUT_CUSTOMER_WAIT_TIMES_0'].astype(float)\n",
    "count, division = np.histogram(waitTimes_22, range(int(waitTimes_22.min()),int(waitTimes_22.max()),1))\n",
    "waitTimes_22.hist(bins=division)\n",
    "waitTimes_22.describe()"
   ]
  },
  {
   "cell_type": "markdown",
   "metadata": {},
   "source": [
    "## Thats much better. A max wait time of 8 minutes, and 75% of customers have a wait time of < 6 minutes. Remember though, these are based off of single runs. Lets run multiples in the next notebook."
   ]
  }
 ],
 "metadata": {
  "kernelspec": {
   "display_name": "Python 2",
   "language": "python",
   "name": "python2"
  },
  "language_info": {
   "codemirror_mode": {
    "name": "ipython",
    "version": 2
   },
   "file_extension": ".py",
   "mimetype": "text/x-python",
   "name": "python",
   "nbconvert_exporter": "python",
   "pygments_lexer": "ipython2",
   "version": "2.7.10"
  }
 },
 "nbformat": 4,
 "nbformat_minor": 2
}
