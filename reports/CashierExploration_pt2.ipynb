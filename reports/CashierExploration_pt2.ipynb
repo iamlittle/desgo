{
 "cells": [
  {
   "cell_type": "markdown",
   "metadata": {},
   "source": [
    "## Again, load up the libraries and data"
   ]
  },
  {
   "cell_type": "code",
   "execution_count": 29,
   "metadata": {},
   "outputs": [
    {
     "name": "stdout",
     "output_type": "stream",
     "text": [
      "['cashier_1000_20.output', 'cashier_1000_6.output', 'cashier_1000_24.output', 'cashier_1000_14.output', 'cashier_1000_22.output']\n"
     ]
    }
   ],
   "source": [
    "%matplotlib inline\n",
    "import pandas as pd\n",
    "import numpy as np\n",
    "import os\n",
    "import re\n",
    "\n",
    "outputFiles = os.listdir('../output')\n",
    "output = dict()\n",
    "for outputFile in outputFiles:\n",
    "    with open(\"../output/\" + outputFile, 'r') as f:\n",
    "        output[outputFile] = dict()\n",
    "        for cnt, line in enumerate(f):\n",
    "            split = line.split()\n",
    "            if len(split) > 1:\n",
    "                output[outputFile][split[0]] = pd.Series(split[1:])\n",
    "            \n",
    "print output.keys()"
   ]
  },
  {
   "cell_type": "code",
   "execution_count": 33,
   "metadata": {},
   "outputs": [
    {
     "data": {
      "text/plain": [
       "count    1000.000000\n",
       "mean        6.570760\n",
       "std         6.317972\n",
       "min         0.000000\n",
       "25%         0.058025\n",
       "50%         4.514600\n",
       "75%        13.267150\n",
       "max        17.728400\n",
       "dtype: float64"
      ]
     },
     "execution_count": 33,
     "metadata": {},
     "output_type": "execute_result"
    },
    {
     "data": {
      "image/png": "[encoded data removed]",
      "text/plain": [
       "<matplotlib.figure.Figure at 0x109310290>"
      ]
     },
     "metadata": {},
     "output_type": "display_data"
    }
   ],
   "source": [
    "output['cashier_1000_22.output'].keys()\n",
    "waitTimes = output['cashier_1000_22.output']['OUT_CUSTOMER_WAIT_TIMES_9'].astype(float)\n",
    "count, division = np.histogram(waitTimes, range(0, 5, 1))\n",
    "waitTimes.hist(bins=division)\n",
    "waitTimes.describe()"
   ]
  },
  {
   "cell_type": "code",
   "execution_count": null,
   "metadata": {
    "collapsed": true
   },
   "outputs": [],
   "source": []
  }
 ],
 "metadata": {
  "kernelspec": {
   "display_name": "Python 2",
   "language": "python",
   "name": "python2"
  },
  "language_info": {
   "codemirror_mode": {
    "name": "ipython",
    "version": 2
   },
   "file_extension": ".py",
   "mimetype": "text/x-python",
   "name": "python",
   "nbconvert_exporter": "python",
   "pygments_lexer": "ipython2",
   "version": "2.7.10"
  }
 },
 "nbformat": 4,
 "nbformat_minor": 2
}
